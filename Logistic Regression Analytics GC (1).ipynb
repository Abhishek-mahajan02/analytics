{
 "cells": [
  {
   "cell_type": "code",
   "execution_count": 11,
   "id": "ce7250b1",
   "metadata": {},
   "outputs": [],
   "source": [
    "import pandas as pd\n",
    "from matplotlib import pyplot as plt\n",
    "%matplotlib inline"
   ]
  },
  {
   "cell_type": "code",
   "execution_count": 36,
   "id": "ebee9341",
   "metadata": {},
   "outputs": [
    {
     "data": {
      "text/html": [
       "<div>\n",
       "<style scoped>\n",
       "    .dataframe tbody tr th:only-of-type {\n",
       "        vertical-align: middle;\n",
       "    }\n",
       "\n",
       "    .dataframe tbody tr th {\n",
       "        vertical-align: top;\n",
       "    }\n",
       "\n",
       "    .dataframe thead th {\n",
       "        text-align: right;\n",
       "    }\n",
       "</style>\n",
       "<table border=\"1\" class=\"dataframe\">\n",
       "  <thead>\n",
       "    <tr style=\"text-align: right;\">\n",
       "      <th></th>\n",
       "      <th>y</th>\n",
       "      <th>x1</th>\n",
       "      <th>x2</th>\n",
       "      <th>x3</th>\n",
       "      <th>x4</th>\n",
       "    </tr>\n",
       "  </thead>\n",
       "  <tbody>\n",
       "    <tr>\n",
       "      <th>0</th>\n",
       "      <td>0</td>\n",
       "      <td>3861.22</td>\n",
       "      <td>3861.66</td>\n",
       "      <td>3860.75</td>\n",
       "      <td>3861.38</td>\n",
       "    </tr>\n",
       "    <tr>\n",
       "      <th>1</th>\n",
       "      <td>0</td>\n",
       "      <td>3861.19</td>\n",
       "      <td>3861.38</td>\n",
       "      <td>3860.16</td>\n",
       "      <td>3861.25</td>\n",
       "    </tr>\n",
       "    <tr>\n",
       "      <th>2</th>\n",
       "      <td>0</td>\n",
       "      <td>3861.38</td>\n",
       "      <td>3861.38</td>\n",
       "      <td>3858.47</td>\n",
       "      <td>3858.53</td>\n",
       "    </tr>\n",
       "    <tr>\n",
       "      <th>3</th>\n",
       "      <td>1</td>\n",
       "      <td>3858.72</td>\n",
       "      <td>3858.72</td>\n",
       "      <td>3857.03</td>\n",
       "      <td>3858.19</td>\n",
       "    </tr>\n",
       "    <tr>\n",
       "      <th>4</th>\n",
       "      <td>1</td>\n",
       "      <td>3858.09</td>\n",
       "      <td>3859.16</td>\n",
       "      <td>3858.03</td>\n",
       "      <td>3858.81</td>\n",
       "    </tr>\n",
       "  </tbody>\n",
       "</table>\n",
       "</div>"
      ],
      "text/plain": [
       "   y       x1       x2       x3       x4\n",
       "0  0  3861.22  3861.66  3860.75  3861.38\n",
       "1  0  3861.19  3861.38  3860.16  3861.25\n",
       "2  0  3861.38  3861.38  3858.47  3858.53\n",
       "3  1  3858.72  3858.72  3857.03  3858.19\n",
       "4  1  3858.09  3859.16  3858.03  3858.81"
      ]
     },
     "execution_count": 36,
     "metadata": {},
     "output_type": "execute_result"
    }
   ],
   "source": [
    "df = pd.read_csv(\"Extract.xlsx - Sheet1.csv\")\n",
    "df.head()"
   ]
  },
  {
   "cell_type": "code",
   "execution_count": 37,
   "id": "6f41fe4a",
   "metadata": {},
   "outputs": [
    {
     "data": {
      "text/plain": [
       "<matplotlib.collections.PathCollection at 0x21fbef95310>"
      ]
     },
     "execution_count": 37,
     "metadata": {},
     "output_type": "execute_result"
    },
    {
     "data": {
      "image/png": "[encoded data removed]",
      "text/plain": [
       "<Figure size 432x288 with 1 Axes>"
      ]
     },
     "metadata": {
      "needs_background": "light"
     },
     "output_type": "display_data"
    }
   ],
   "source": [
    "plt.scatter(df.x4,df.y,marker='+',color='red')"
   ]
  },
  {
   "cell_type": "code",
   "execution_count": 38,
   "id": "fd857e85",
   "metadata": {},
   "outputs": [],
   "source": [
    "from sklearn.model_selection import train_test_split"
   ]
  },
  {
   "cell_type": "code",
   "execution_count": 114,
   "id": "bb822970",
   "metadata": {},
   "outputs": [],
   "source": [
    "X_train, X_test, y_train, y_test = train_test_split(df[['x1','x2','x3','x4']],df.y,train_size=0.2 )"
   ]
  },
  {
   "cell_type": "code",
   "execution_count": 115,
   "id": "e6ef72cf",
   "metadata": {},
   "outputs": [
    {
     "data": {
      "text/html": [
       "<div>\n",
       "<style scoped>\n",
       "    .dataframe tbody tr th:only-of-type {\n",
       "        vertical-align: middle;\n",
       "    }\n",
       "\n",
       "    .dataframe tbody tr th {\n",
       "        vertical-align: top;\n",
       "    }\n",
       "\n",
       "    .dataframe thead th {\n",
       "        text-align: right;\n",
       "    }\n",
       "</style>\n",
       "<table border=\"1\" class=\"dataframe\">\n",
       "  <thead>\n",
       "    <tr style=\"text-align: right;\">\n",
       "      <th></th>\n",
       "      <th>x1</th>\n",
       "      <th>x2</th>\n",
       "      <th>x3</th>\n",
       "      <th>x4</th>\n",
       "    </tr>\n",
       "  </thead>\n",
       "  <tbody>\n",
       "    <tr>\n",
       "      <th>3627</th>\n",
       "      <td>3941.88</td>\n",
       "      <td>3941.94</td>\n",
       "      <td>3940.75</td>\n",
       "      <td>3941.16</td>\n",
       "    </tr>\n",
       "    <tr>\n",
       "      <th>5981</th>\n",
       "      <td>3855.03</td>\n",
       "      <td>3855.34</td>\n",
       "      <td>3854.50</td>\n",
       "      <td>3854.66</td>\n",
       "    </tr>\n",
       "    <tr>\n",
       "      <th>6685</th>\n",
       "      <td>3846.88</td>\n",
       "      <td>3847.66</td>\n",
       "      <td>3846.38</td>\n",
       "      <td>3846.66</td>\n",
       "    </tr>\n",
       "    <tr>\n",
       "      <th>7765</th>\n",
       "      <td>3788.00</td>\n",
       "      <td>3789.72</td>\n",
       "      <td>3787.81</td>\n",
       "      <td>3789.72</td>\n",
       "    </tr>\n",
       "    <tr>\n",
       "      <th>7105</th>\n",
       "      <td>3780.44</td>\n",
       "      <td>3780.56</td>\n",
       "      <td>3779.50</td>\n",
       "      <td>3779.97</td>\n",
       "    </tr>\n",
       "    <tr>\n",
       "      <th>...</th>\n",
       "      <td>...</td>\n",
       "      <td>...</td>\n",
       "      <td>...</td>\n",
       "      <td>...</td>\n",
       "    </tr>\n",
       "    <tr>\n",
       "      <th>5829</th>\n",
       "      <td>3858.06</td>\n",
       "      <td>3858.50</td>\n",
       "      <td>3856.41</td>\n",
       "      <td>3856.66</td>\n",
       "    </tr>\n",
       "    <tr>\n",
       "      <th>5983</th>\n",
       "      <td>3853.53</td>\n",
       "      <td>3853.88</td>\n",
       "      <td>3853.13</td>\n",
       "      <td>3853.44</td>\n",
       "    </tr>\n",
       "    <tr>\n",
       "      <th>1079</th>\n",
       "      <td>3863.97</td>\n",
       "      <td>3865.88</td>\n",
       "      <td>3863.53</td>\n",
       "      <td>3865.88</td>\n",
       "    </tr>\n",
       "    <tr>\n",
       "      <th>4659</th>\n",
       "      <td>3933.50</td>\n",
       "      <td>3934.50</td>\n",
       "      <td>3932.59</td>\n",
       "      <td>3932.59</td>\n",
       "    </tr>\n",
       "    <tr>\n",
       "      <th>5170</th>\n",
       "      <td>3959.28</td>\n",
       "      <td>3959.78</td>\n",
       "      <td>3959.28</td>\n",
       "      <td>3959.63</td>\n",
       "    </tr>\n",
       "  </tbody>\n",
       "</table>\n",
       "<p>8000 rows × 4 columns</p>\n",
       "</div>"
      ],
      "text/plain": [
       "           x1       x2       x3       x4\n",
       "3627  3941.88  3941.94  3940.75  3941.16\n",
       "5981  3855.03  3855.34  3854.50  3854.66\n",
       "6685  3846.88  3847.66  3846.38  3846.66\n",
       "7765  3788.00  3789.72  3787.81  3789.72\n",
       "7105  3780.44  3780.56  3779.50  3779.97\n",
       "...       ...      ...      ...      ...\n",
       "5829  3858.06  3858.50  3856.41  3856.66\n",
       "5983  3853.53  3853.88  3853.13  3853.44\n",
       "1079  3863.97  3865.88  3863.53  3865.88\n",
       "4659  3933.50  3934.50  3932.59  3932.59\n",
       "5170  3959.28  3959.78  3959.28  3959.63\n",
       "\n",
       "[8000 rows x 4 columns]"
      ]
     },
     "execution_count": 115,
     "metadata": {},
     "output_type": "execute_result"
    }
   ],
   "source": [
    "X_test"
   ]
  },
  {
   "cell_type": "code",
   "execution_count": 116,
   "id": "2faac166",
   "metadata": {},
   "outputs": [],
   "source": [
    "from sklearn.linear_model import LogisticRegression\n",
    "model = LogisticRegression()"
   ]
  },
  {
   "cell_type": "code",
   "execution_count": 117,
   "id": "ce3722fc",
   "metadata": {},
   "outputs": [
    {
     "data": {
      "text/plain": [
       "LogisticRegression()"
      ]
     },
     "execution_count": 117,
     "metadata": {},
     "output_type": "execute_result"
    }
   ],
   "source": [
    "model.fit(X_train, y_train)"
   ]
  },
  {
   "cell_type": "code",
   "execution_count": 118,
   "id": "07576ece",
   "metadata": {},
   "outputs": [
    {
     "data": {
      "text/plain": [
       "array([0, 1, 1, ..., 1, 0, 1], dtype=int64)"
      ]
     },
     "execution_count": 118,
     "metadata": {},
     "output_type": "execute_result"
    }
   ],
   "source": [
    "model.predict(X_test)"
   ]
  },
  {
   "cell_type": "code",
   "execution_count": 119,
   "id": "c4d9c840",
   "metadata": {},
   "outputs": [
    {
     "data": {
      "text/plain": [
       "0.53475"
      ]
     },
     "execution_count": 119,
     "metadata": {},
     "output_type": "execute_result"
    }
   ],
   "source": [
    "model.score(X_test,y_test)"
   ]
  },
  {
   "cell_type": "code",
   "execution_count": 120,
   "id": "ebda669c",
   "metadata": {},
   "outputs": [
    {
     "data": {
      "text/plain": [
       "array([[0.51105729, 0.48894271],\n",
       "       [0.49875018, 0.50124982],\n",
       "       [0.49965962, 0.50034038],\n",
       "       ...,\n",
       "       [0.44682469, 0.55317531],\n",
       "       [0.52675406, 0.47324594],\n",
       "       [0.47373915, 0.52626085]])"
      ]
     },
     "execution_count": 120,
     "metadata": {},
     "output_type": "execute_result"
    }
   ],
   "source": [
    "model.predict_proba(X_test)"
   ]
  },
  {
   "cell_type": "code",
   "execution_count": null,
   "id": "ca0c9b59",
   "metadata": {},
   "outputs": [],
   "source": []
  },
  {
   "cell_type": "code",
   "execution_count": null,
   "id": "e514015c",
   "metadata": {},
   "outputs": [],
   "source": []
  },
  {
   "cell_type": "code",
   "execution_count": null,
   "id": "9f60e338",
   "metadata": {},
   "outputs": [],
   "source": []
  }
 ],
 "metadata": {
  "kernelspec": {
   "display_name": "Python 3",
   "language": "python",
   "name": "python3"
  },
  "language_info": {
   "codemirror_mode": {
    "name": "ipython",
    "version": 3
   },
   "file_extension": ".py",
   "mimetype": "text/x-python",
   "name": "python",
   "nbconvert_exporter": "python",
   "pygments_lexer": "ipython3",
   "version": "3.8.8"
  }
 },
 "nbformat": 4,
 "nbformat_minor": 5
}
